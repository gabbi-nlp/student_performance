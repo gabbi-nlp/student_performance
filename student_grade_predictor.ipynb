{
  "nbformat": 4,
  "nbformat_minor": 0,
  "metadata": {
    "colab": {
      "provenance": []
    },
    "kernelspec": {
      "name": "python3",
      "display_name": "Python 3"
    },
    "language_info": {
      "name": "python"
    }
  },
  "cells": [
    {
      "cell_type": "code",
      "source": [
        "import kagglehub\n",
        "import pandas as pd\n",
        "from sklearn.preprocessing import LabelEncoder\n",
        "from sklearn.model_selection import train_test_split\n",
        "from sklearn.svm import SVR\n",
        "from sklearn.neighbors import KNeighborsRegressor\n",
        "from sklearn.linear_model import LinearRegression, Ridge, Lasso\n",
        "from sklearn.ensemble import RandomForestRegressor\n",
        "from sklearn.metrics import mean_squared_error\n",
        "from sklearn.model_selection import cross_val_score"
      ],
      "metadata": {
        "id": "I_ld2nBeMNFk"
      },
      "execution_count": 1,
      "outputs": []
    },
    {
      "cell_type": "markdown",
      "source": [
        "**Pull in Data**"
      ],
      "metadata": {
        "id": "bJwS1zetMN88"
      }
    },
    {
      "cell_type": "code",
      "source": [
        "# Download latest version\n",
        "path = kagglehub.dataset_download(\"nikhil7280/student-performance-multiple-linear-regression\")\n",
        "print(\"Path to dataset files:\", path)\n",
        "\n",
        "student_data_df : pd.DataFrame = pd.read_csv(path+\"/Student_Performance.csv\")"
      ],
      "metadata": {
        "colab": {
          "base_uri": "https://localhost:8080/"
        },
        "id": "RQAvI38cMQT-",
        "outputId": "8e323975-6202-4c1c-d366-9db44ffdf5ba"
      },
      "execution_count": 5,
      "outputs": [
        {
          "output_type": "stream",
          "name": "stdout",
          "text": [
            "Path to dataset files: /root/.cache/kagglehub/datasets/nikhil7280/student-performance-multiple-linear-regression/versions/1\n"
          ]
        }
      ]
    },
    {
      "cell_type": "code",
      "source": [
        "print(\"preprocessing...\")\n",
        "clean_student_data_df = student_data_df\n",
        "\n",
        "null_count = student_data_df.isnull().sum().sum()\n",
        "if null_count:\n",
        "    clean_student_data_df = clean_student_data_df.dropna()"
      ],
      "metadata": {
        "colab": {
          "base_uri": "https://localhost:8080/"
        },
        "id": "Ah6y5C_dMpY8",
        "outputId": "73d920b9-327a-4d1d-9fc2-5ccd23232a25"
      },
      "execution_count": 6,
      "outputs": [
        {
          "output_type": "stream",
          "name": "stdout",
          "text": [
            "preprocessing...\n"
          ]
        }
      ]
    },
    {
      "cell_type": "code",
      "source": [
        "dup_count = student_data_df.duplicated().sum()\n",
        "if dup_count:\n",
        "    clean_student_data_df = clean_student_data_df.drop_duplicates()"
      ],
      "metadata": {
        "id": "74YbetTaN9XP"
      },
      "execution_count": 7,
      "outputs": []
    },
    {
      "cell_type": "code",
      "source": [
        "encoder = LabelEncoder()\n",
        "\n",
        "categorical_columns = clean_student_data_df.select_dtypes(include=['object']).columns\n",
        "\n",
        "for ccol in categorical_columns:\n",
        "    clean_student_data_df[ccol+\"_encoded\"] = encoder.fit_transform(clean_student_data_df[ccol])\n",
        "    clean_student_data_df.drop(columns=ccol, inplace=True)"
      ],
      "metadata": {
        "colab": {
          "base_uri": "https://localhost:8080/"
        },
        "id": "w6zEWpf0NuKp",
        "outputId": "755ea61d-fb5b-4b52-b25d-c7b416e3e928"
      },
      "execution_count": 8,
      "outputs": [
        {
          "output_type": "stream",
          "name": "stderr",
          "text": [
            "<ipython-input-8-a2d24d432f1f>:6: SettingWithCopyWarning: \n",
            "A value is trying to be set on a copy of a slice from a DataFrame.\n",
            "Try using .loc[row_indexer,col_indexer] = value instead\n",
            "\n",
            "See the caveats in the documentation: https://pandas.pydata.org/pandas-docs/stable/user_guide/indexing.html#returning-a-view-versus-a-copy\n",
            "  clean_student_data_df[ccol+\"_encoded\"] = encoder.fit_transform(clean_student_data_df[ccol])\n",
            "<ipython-input-8-a2d24d432f1f>:7: SettingWithCopyWarning: \n",
            "A value is trying to be set on a copy of a slice from a DataFrame\n",
            "\n",
            "See the caveats in the documentation: https://pandas.pydata.org/pandas-docs/stable/user_guide/indexing.html#returning-a-view-versus-a-copy\n",
            "  clean_student_data_df.drop(columns=ccol, inplace=True)\n"
          ]
        }
      ]
    },
    {
      "cell_type": "code",
      "source": [
        "print(\"build model...\")\n",
        "target_variable = 'Performance Index'\n",
        "\n",
        "X = clean_student_data_df.drop(target_variable, axis=1)\n",
        "y = clean_student_data_df[target_variable]"
      ],
      "metadata": {
        "colab": {
          "base_uri": "https://localhost:8080/"
        },
        "id": "H2EfbymsMala",
        "outputId": "1898e766-1514-4905-e78c-c05f379b2008"
      },
      "execution_count": 11,
      "outputs": [
        {
          "output_type": "stream",
          "name": "stdout",
          "text": [
            "build model...\n"
          ]
        }
      ]
    },
    {
      "cell_type": "code",
      "source": [
        "print(\"model selection...\")\n",
        "\n",
        "# Initialize models\n",
        "models = {\n",
        "    \"Linear Regression\": LinearRegression(),\n",
        "    \"Ridge Regression\": Ridge(alpha=1.0),\n",
        "    \"Lasso Regression\": Lasso(alpha=0.1),\n",
        "    \"Random Forest\": RandomForestRegressor(n_estimators=100),\n",
        "    \"Support Vector Regression\": SVR(kernel='linear'),\n",
        "    \"K-Nearest Neighbors\": KNeighborsRegressor(n_neighbors=5)\n",
        "}\n",
        "\n",
        "# Evaluate models using cross-validation (e.g., 5-fold)\n",
        "cv_results = {}\n",
        "for model_name, model in models.items():\n",
        "    # Compute cross-validation scores (negative MSE)\n",
        "    scores = cross_val_score(model, X, y, cv=5, scoring='neg_root_mean_squared_error')\n",
        "\n",
        "    # Store the mean of the cross-validation scores (lower is better)\n",
        "    mse = -scores.mean()\n",
        "    cv_results[model_name] = mse\n",
        "\n",
        "# Display cross-validation results\n",
        "lowest_mse = 1000\n",
        "for model_name, mse in cv_results.items():\n",
        "    print(f\"{model_name}: CV RMSE = {mse}\")\n",
        "\n",
        "    if mse < lowest_mse:\n",
        "        lowest_mse = mse\n",
        "        best_model = model_name\n",
        "\n",
        "print(f'best model: {best_model}')\n",
        "model = models[best_model]"
      ],
      "metadata": {
        "colab": {
          "base_uri": "https://localhost:8080/"
        },
        "id": "ibAzia_1OQx5",
        "outputId": "3e6ac9e3-afa7-4b2e-ed4a-423ebd5decfb"
      },
      "execution_count": 16,
      "outputs": [
        {
          "output_type": "stream",
          "name": "stdout",
          "text": [
            "model selection...\n",
            "Linear Regression: CV RMSE = 2.044196834678571\n",
            "Ridge Regression: CV RMSE = 2.044196821940742\n",
            "Lasso Regression: CV RMSE = 2.0555867587092007\n",
            "Random Forest: CV RMSE = 2.361011458765492\n",
            "Support Vector Regression: CV RMSE = 2.0443555704812724\n",
            "K-Nearest Neighbors: CV RMSE = 2.500093391688097\n",
            "best model: Ridge Regression\n"
          ]
        }
      ]
    },
    {
      "cell_type": "code",
      "execution_count": 17,
      "metadata": {
        "colab": {
          "base_uri": "https://localhost:8080/"
        },
        "id": "_995fAJZMFR2",
        "outputId": "a732b942-57c5-49d0-9fef-90817e1caa21"
      },
      "outputs": [
        {
          "output_type": "stream",
          "name": "stdout",
          "text": [
            "evaluation...\n",
            "RMSE: 2.044196821940742\n"
          ]
        }
      ],
      "source": [
        "print(\"evaluation...\")\n",
        "\n",
        "scores = cross_val_score(model, X, y, cv=5, scoring='neg_root_mean_squared_error')\n",
        "final_mse = -scores.mean()\n",
        "\n",
        "print(\"RMSE:\", final_mse)\n"
      ]
    }
  ]
}